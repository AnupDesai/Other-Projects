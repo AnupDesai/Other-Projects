{
  "nbformat": 4,
  "nbformat_minor": 0,
  "metadata": {
    "colab": {
      "provenance": [],
      "collapsed_sections": [],
      "authorship_tag": "ABX9TyNaqAt1MwFfq26PrA+8Afip",
      "include_colab_link": true
    },
    "kernelspec": {
      "name": "python3",
      "display_name": "Python 3"
    },
    "language_info": {
      "name": "python"
    }
  },
  "cells": [
    {
      "cell_type": "markdown",
      "metadata": {
        "id": "view-in-github",
        "colab_type": "text"
      },
      "source": [
        "<a href=\"https://colab.research.google.com/github/AnupDesai/Other-Projects/blob/main/Histogram_equalization_and_Finding_the_shortest_path.ipynb\" target=\"_parent\"><img src=\"https://colab.research.google.com/assets/colab-badge.svg\" alt=\"Open In Colab\"/></a>"
      ]
    },
    {
      "cell_type": "code",
      "execution_count": null,
      "metadata": {
        "id": "Cxca2uZS_ss7"
      },
      "outputs": [],
      "source": [
        "import cv2\n",
        "import numpy as np\n",
        "import math\n",
        "import matplotlib.pyplot as plt\n",
        "%matplotlib inline\n",
        "import time\n",
        "img= cv2.imread(\"/content/wolves.png\")"
      ]
    },
    {
      "cell_type": "code",
      "source": [
        "def smoothness_prior_gray(img_gray,diff_tuple):\n",
        "  sum=0\n",
        "  res=[]\n",
        "  x,y= diff_tuple[0], diff_tuple[1]\n",
        "  for i in range (img_gray.shape[0]):\n",
        "    for j in range(img_gray.shape[1]):\n",
        "       x1,y1= x+i,y+j\n",
        "       if x1<img_gray.shape[0] and y1<img_gray.shape[1]:\n",
        "         sum=0\n",
        "         if x1>=0 and y1>=0:\n",
        "            sum = math.pow(int(img_gray[i][j])-int(img_gray[x1][y1]),2)\n",
        "         res.append(sum)            \n",
        "    return res\n",
        "\n",
        "diff = input('Enter space-separated integers: ')\n",
        "diff_tuple = tuple(int(item) for item in diff.split())\n",
        "imgGRAY= cv2.cvtColor(img, cv2.COLOR_BGR2GRAY)\n",
        "starttime=time.time()\n",
        "arr= smoothness_prior_gray(imgGRAY,diff_tuple)\n",
        "endtime=time.time()\n",
        "print('Time Taken : ',(endtime-starttime), \"ms\")\n",
        "plt.hist(arr,bins=10)\n",
        "plt.xlabel(\"Difference\")\n",
        "plt.ylabel(\"Values\")\n",
        "plt.title(\"Histogram for color channel {} and case {}\".format(\"gray\",diff_tuple))"
      ],
      "metadata": {
        "colab": {
          "base_uri": "https://localhost:8080/",
          "height": 347
        },
        "id": "mVGkePGF_3Si",
        "outputId": "a5d89067-61cc-43ac-d48b-46acbb4b9db0"
      },
      "execution_count": null,
      "outputs": [
        {
          "output_type": "stream",
          "name": "stdout",
          "text": [
            "Enter space-separated integers: 1 0\n",
            "Time Taken :  0.004189729690551758 ms\n"
          ]
        },
        {
          "output_type": "execute_result",
          "data": {
            "text/plain": [
              "Text(0.5, 1.0, 'Histogram for color channel gray and case (1, 0)')"
            ]
          },
          "metadata": {},
          "execution_count": 2
        },
        {
          "output_type": "display_data",
          "data": {
            "text/plain": [
              "<Figure size 432x288 with 1 Axes>"
            ],
            "image/png": "[encoded data removed]"
          },
          "metadata": {
            "needs_background": "light"
          }
        }
      ]
    },
    {
      "cell_type": "code",
      "source": [
        "class calculate_smoothness:\n",
        "\n",
        "  def __init__(self,img,img_shape,x,y):\n",
        "    self.img_shape=img_shape\n",
        "    self.x=x\n",
        "    self.y=y\n",
        "    self.img=img\n",
        "\n",
        "  def smoothness_prior_1(self):\n",
        "    res=[]\n",
        "    for i in range (self.img_shape[0]):\n",
        "      for j in range(self.img_shape[1]):\n",
        "        x1,y1= self.x+i,self.y+j       \n",
        "        if x1<self.img_shape[0] and y1<self.img_shape[1]:\n",
        "          diff=0\n",
        "          for k in range(self.img_shape[2]):\n",
        "            diff += math.pow((int(self.img[i][j][k])- int(self.img[x1][y1][k])),2)\n",
        "          res.append(diff)\n",
        "    return res\n"
      ],
      "metadata": {
        "id": "OXAX4O7I_6Jh"
      },
      "execution_count": null,
      "outputs": []
    },
    {
      "cell_type": "code",
      "source": [
        "diff = input('Enter space-separated integers: ')\n",
        "diff_tuple = tuple(int(item) for item in diff.split())\n",
        "imgRGB= cv2.cvtColor(img, cv2.COLOR_BGR2RGB)\n",
        "smooth_obj=calculate_smoothness(imgRGB,imgRGB.shape,diff_tuple[0],diff_tuple[1])\n",
        "starttime=time.time()\n",
        "arr= smooth_obj.smoothness_prior_1()\n",
        "endtime=time.time()\n",
        "print('Time Taken : ',(endtime-starttime), \"ms\")\n",
        "plt.hist(arr,bins=10)\n",
        "plt.xlabel(\"Difference\")\n",
        "plt.ylabel(\"Values\")\n",
        "plt.title(\"Histogram for color channel {} and case {}\".format(\"RGB\",diff_tuple))\n",
        "    "
      ],
      "metadata": {
        "colab": {
          "base_uri": "https://localhost:8080/",
          "height": 347
        },
        "id": "ohS-OggG_6FG",
        "outputId": "dd5f027b-b4a1-44b5-e049-61eafaa7b7bb"
      },
      "execution_count": null,
      "outputs": [
        {
          "output_type": "stream",
          "name": "stdout",
          "text": [
            "Enter space-separated integers: 0 1\n",
            "Time Taken :  3.7622199058532715 ms\n"
          ]
        },
        {
          "output_type": "execute_result",
          "data": {
            "text/plain": [
              "Text(0.5, 1.0, 'Histogram for color channel RGB and case (0, 1)')"
            ]
          },
          "metadata": {},
          "execution_count": 65
        },
        {
          "output_type": "display_data",
          "data": {
            "text/plain": [
              "<Figure size 432x288 with 1 Axes>"
            ],
            "image/png": "[encoded data removed]"
          },
          "metadata": {
            "needs_background": "light"
          }
        }
      ]
    },
    {
      "cell_type": "code",
      "source": [
        "diff = input('Enter space-separated integers: ')\n",
        "diff_tuple = tuple(int(item) for item in diff.split())\n",
        "imgHSV= cv2.cvtColor(img, cv2.COLOR_BGR2HSV)\n",
        "smooth_obj=calculate_smoothness(imgHSV,imgHSV.shape,diff_tuple[0],diff_tuple[1])\n",
        "starttime=time.time()\n",
        "arr= smooth_obj.smoothness_prior_1()\n",
        "endtime=time.time()\n",
        "print('Time Taken : ',(endtime-starttime), \"ms\")\n",
        "plt.hist(arr,bins=10)\n",
        "plt.xlabel(\"Difference\")\n",
        "plt.ylabel(\"Values\")\n",
        "plt.title(\"Histogram for color channel {} and case {}\".format(\"HSV\",diff_tuple))\n"
      ],
      "metadata": {
        "colab": {
          "base_uri": "https://localhost:8080/",
          "height": 347
        },
        "id": "na76QLrnAEhe",
        "outputId": "d70612a0-b161-48be-a2f2-15ad5664bd43"
      },
      "execution_count": null,
      "outputs": [
        {
          "output_type": "stream",
          "name": "stdout",
          "text": [
            "Enter space-separated integers: 0 1\n",
            "Time Taken :  3.8165836334228516 ms\n"
          ]
        },
        {
          "output_type": "execute_result",
          "data": {
            "text/plain": [
              "Text(0.5, 1.0, 'Histogram for color channel HSV and case (0, 1)')"
            ]
          },
          "metadata": {},
          "execution_count": 66
        },
        {
          "output_type": "display_data",
          "data": {
            "text/plain": [
              "<Figure size 432x288 with 1 Axes>"
            ],
            "image/png": "[encoded data removed]"
          },
          "metadata": {
            "needs_background": "light"
          }
        }
      ]
    },
    {
      "cell_type": "code",
      "source": [
        "diff = input('Enter space-separated integers: ')\n",
        "diff_tuple = tuple(int(item) for item in diff.split())\n",
        "img=np.asarray(img,np.float32)\n",
        "imgLAB= cv2.cvtColor(img, cv2.COLOR_BGR2LAB)\n",
        "smooth_obj=calculate_smoothness(imgLAB,imgLAB.shape,diff_tuple[0],diff_tuple[1])\n",
        "starttime=time.time()\n",
        "arr= smooth_obj.smoothness_prior_1()\n",
        "endtime=time.time()\n",
        "print('Time Taken : ',(endtime-starttime), \"ms\")\n",
        "plt.hist(arr,bins=10)\n",
        "plt.xlabel(\"Difference\")\n",
        "plt.ylabel(\"Values\")\n",
        "plt.title(\"Histogram for color channel {} and case {}\".format(\"LAB\",diff_tuple))\n"
      ],
      "metadata": {
        "colab": {
          "base_uri": "https://localhost:8080/",
          "height": 347
        },
        "id": "YsBqSVijAIW7",
        "outputId": "6361af2e-bc04-4424-9bd4-e2d5b5c81f69"
      },
      "execution_count": null,
      "outputs": [
        {
          "output_type": "stream",
          "name": "stdout",
          "text": [
            "Enter space-separated integers: 0 1\n",
            "Time Taken :  3.9593663215637207 ms\n"
          ]
        },
        {
          "output_type": "execute_result",
          "data": {
            "text/plain": [
              "Text(0.5, 1.0, 'Histogram for color channel LAB and case (0, 1)')"
            ]
          },
          "metadata": {},
          "execution_count": 67
        },
        {
          "output_type": "display_data",
          "data": {
            "text/plain": [
              "<Figure size 432x288 with 1 Axes>"
            ],
            "image/png": "[encoded data removed]"
          },
          "metadata": {
            "needs_background": "light"
          }
        }
      ]
    },
    {
      "cell_type": "markdown",
      "source": [
        "**PROBLEM 2**"
      ],
      "metadata": {
        "id": "oEuJGOFJATsj"
      }
    },
    {
      "cell_type": "code",
      "source": [
        "class Build_graph(object):\n",
        "    def __init__(self):\n",
        "        self.vertices=[]\n",
        "        self.edges={}\n",
        "    \n",
        "    def extraNode(self,vertice):\n",
        "        self.vertices.append(vertice)\n",
        "        self.edges[vertice]=[]          \n",
        "    \n",
        "    def addEdge(self,edge):\n",
        "        par=edge.parent()\n",
        "        dest=edge.children()\n",
        "        self.edges[par].append(dest)\n",
        "    \n",
        "    def append_children(self,child):\n",
        "        return self.edges[child]\n",
        "    \n",
        "    def __str__(self):\n",
        "        result=''\n",
        "        for par in self.vertices:\n",
        "            for final in self.edges[par]:\n",
        "                result = result + '('+str(par.getFirstPixel())+','+str(par.getSecondPixel())+') -' + '('+ str(final.getFirstPixel())+','+str(final.getSecondPixel())+')\\n'\n",
        "        return result[:-1]\n",
        "class Graph(Build_graph):\n",
        "    def addEdge(self,edge):\n",
        "        Build_graph.addEdge(self,edge)\n",
        "        rev=GetEdgeData(edge.children(),edge.parent())\n",
        "        Build_graph.addEdge(self,rev)  \n",
        "class GetPixelData(object):\n",
        "    def __init__(self,x,y,val):\n",
        "        self.value=val\n",
        "        self.x,self.y=x,y    \n",
        "    def getFirstPixel(self):\n",
        "        return self.x\n",
        "    def getSecondPixel(self):\n",
        "        return self.y\n",
        "    def getIntValue(self):\n",
        "        return self.value\n",
        "    def __str__(self):\n",
        "        return '('+str(self.x)+','+str(self.y)+'):'+str(self.value)\n",
        "class GetEdgeData(object):\n",
        "    def __init__(self,parent,child):\n",
        "        self.par=parent\n",
        "        self.child=child\n",
        "    def parent(self):\n",
        "        return self.par\n",
        "    def children(self):\n",
        "        return self.child       \n",
        "def BFS(g,edge1,edge2):\n",
        "    path=[edge1]\n",
        "    Q=[path]\n",
        "    while len(Q) !=0:\n",
        "        temp = Q.pop(0)\n",
        "        lastNode = temp[-1]\n",
        "        if lastNode ==edge2:\n",
        "            return temp\n",
        "        n=g.append_children(lastNode)\n",
        "        for next in n:\n",
        "            if next not in temp:\n",
        "                new = temp + [next]\n",
        "                Q.append(new)\n",
        "    return None\n",
        "def shortestPath(path):\n",
        "    result=''\n",
        "    for i in range(len(path)):\n",
        "        result=result +''.join(str(path[i]).split(':')[0])\n",
        "        if i != len(path)-1:\n",
        "            result=result + '-'\n",
        "    return result"
      ],
      "metadata": {
        "id": "wL1fhXKmAWGA"
      },
      "execution_count": null,
      "outputs": []
    },
    {
      "cell_type": "code",
      "source": [
        "def four_adjacency(k,g_array,V):\n",
        "    for i in range(len(g_array)):\n",
        "        j=i+1\n",
        "        sumofnodes=0\n",
        "        x,y=g_array[i].getFirstPixel(),g_array[i].getSecondPixel()\n",
        "        int_value=g_array[i].getIntValue()\n",
        "        Neigh4=[[x,y+1],[x,y-1],[x-1,y],[x+1,y]]\n",
        "        while j<len(g_array) or sumofnodes==4:\n",
        "            final=g_array[j].getFirstPixel()\n",
        "            final_c=g_array[j].getSecondPixel()\n",
        "            int_value1=g_array[j].getIntValue()\n",
        "            if int_value in V and int_value1 in V:\n",
        "                for egde in Neigh4:\n",
        "                    if egde[0]==final and egde[1]==final_c:\n",
        "                        k.addEdge(GetEdgeData(g_array[i],g_array[j]))\n",
        "                        sumofnodes+=1\n",
        "            j+=1                    \n",
        "    return k\n",
        "def m_connection(graph_edge,edges,V):\n",
        "    for i in range(len(edges)):\n",
        "        second_point=i+1\n",
        "        r=edges[i].getFirstPixel()\n",
        "        c=edges[i].getSecondPixel()\n",
        "        int_value=edges[i].getIntValue()\n",
        "        neigh4=[[r,c+1],[r,c-1],[r-1,c],[r+1,c]]\n",
        "        while second_point<len(edges):\n",
        "            r1=edges[second_point].getFirstPixel()\n",
        "            c1=edges[second_point].getSecondPixel()\n",
        "            int_value1=edges[second_point].getIntValue()\n",
        "            flag1,flag2=0,0\n",
        "            if int_value in V and int_value1 in V:\n",
        "                for edj in neigh4:\n",
        "                    if edj[0]==r1 and edj[1]==c1:\n",
        "                        graph_edge.addEdge(GetEdgeData(edges[i],edges[second_point]))\n",
        "                        flag1=1\n",
        "                if flag1!=1:\n",
        "                    neigh1,neighq=[[r+1,c+1],[r-1,c+1],[r+1,c-1],[r-1,c-1]],[[r1,c1+1],[r1,c1-1],[r1-1,c1],[r1+1,c1]]\n",
        "                    for par in neigh1:\n",
        "                        if par[0]==r1 and par[1]==c1:\n",
        "                            flag2=1\n",
        "                    if flag2==1:\n",
        "                        list1=[]\n",
        "                        for parent in neigh4:\n",
        "                            if parent in neighq:\n",
        "                                list1.append(parent)\n",
        "                        length_edge=len(list1)\n",
        "                        sum_node=0\n",
        "                        while len(list1)!=0:\n",
        "                            t=list1.pop(0)\n",
        "                            for node in edges:\n",
        "                                x=node.getFirstPixel()\n",
        "                                y=node.getSecondPixel()\n",
        "                                if t[0]==x and t[1]==y:\n",
        "                                    int_value4=node.getIntValue()\n",
        "                                    if int_value4 not in V:\n",
        "                                        sum_node+=1\n",
        "                        if sum_node==length_edge:\n",
        "                            graph_edge.addEdge(GetEdgeData(edges[i],edges[second_point]))\n",
        "            second_point=second_point + 1  \n",
        "    return graph_edge\n",
        "def eight_neighbors(k,g_array,V):\n",
        "    for i in range(len(g_array)):\n",
        "        secondPointer=i+1\n",
        "        noofNodes=0\n",
        "        x=g_array[i].getFirstPixel()\n",
        "        y=g_array[i].getSecondPixel()\n",
        "        int1=g_array[i].getIntValue()\n",
        "        Neigh8=[[x,y+1],[x,y-1],[x-1,y],[x+1,y],\n",
        "           [x+1,y+1],[x-1,y+1],[x+1,y-1],[x-1,y-1]]\n",
        "        while secondPointer<len(g_array) or noofNodes==8:\n",
        "            r=g_array[secondPointer].getFirstPixel()\n",
        "            c=g_array[secondPointer].getSecondPixel()\n",
        "            int2=g_array[secondPointer].getIntValue()\n",
        "            if int1 in V and int2 in V:\n",
        "                for point in Neigh8:\n",
        "                    if point[0]==r and point[1]==c:\n",
        "                        k.addEdge(GetEdgeData(g_array[i],g_array[secondPointer]))\n",
        "                        noofNodes+=1\n",
        "            secondPointer+=1  \n",
        "    return k\n",
        "\n"
      ],
      "metadata": {
        "id": "eKR1obxaIRk9"
      },
      "execution_count": null,
      "outputs": []
    },
    {
      "cell_type": "code",
      "source": [
        "def check_path(arr,p,q,V,path_type):\n",
        "    length=arr.shape\n",
        "    edges=[]\n",
        "    b,e=None, None\n",
        "    for i in range(length[0]):\n",
        "        for j in range(length[1]):\n",
        "            edges.append(GetPixelData(i,j,arr[i,j]))\n",
        "            if i==p[0] and j==p[1]:\n",
        "                b=edges[-1]\n",
        "            if i==q[0] and j==q[1]:\n",
        "                e=edges[-1]    \n",
        "    graph_obj=Graph()\n",
        "    for n in edges:\n",
        "        graph_obj.extraNode(n)     \n",
        "    if path_type=='4':\n",
        "        (graph,edge1,edge2)= four_adjacency(graph_obj,edges,V),b,e\n",
        "    elif path_type=='8':\n",
        "        (graph,edge1,edge2)= eight_neighbors(graph_obj,edges,V),b,e\n",
        "    elif path_type=='m':\n",
        "        (graph,edge1,edge2)= m_connection(graph_obj,edges,V),b,e\n",
        "    path=BFS(graph,edge1,edge2)\n",
        "    if path==None:\n",
        "        print('No path')\n",
        "    else:\n",
        "        print(\"Shortest Path: \", shortestPath(path))\n",
        "        print(\"Length of Shortest Path: \", len(path)-1)\n",
        "           \n",
        "if __name__ == '__main__':\n",
        "    arr=np.array([[3, 1, 2, 1],[2, 2, 0, 2],[1, 2, 1, 1],[1, 0, 1, 2]])   \n",
        "    p=[3,0]\n",
        "    q=[0,3]\n",
        "    V=[1,2]\n",
        "    path_type=str(input(\"Please input 4 or 8 or m: \"))\n",
        "    starttime=time.time()\n",
        "    check_path(arr,p,q,V,path_type)\n",
        "    endtime=time.time()\n",
        "    print('Time Taken: ',(endtime-starttime)*1000)"
      ],
      "metadata": {
        "colab": {
          "base_uri": "https://localhost:8080/"
        },
        "id": "e1gU8OwUAcjC",
        "outputId": "bb785e0f-1ebc-4e3d-9113-49015ba13a09"
      },
      "execution_count": null,
      "outputs": [
        {
          "output_type": "stream",
          "name": "stdout",
          "text": [
            "Please input 4 or 8 or m: m\n",
            "Shortest Path:  (3,0)-(2,0)-(1,0)-(1,1)-(0,1)-(0,2)-(0,3)\n",
            "Length of Shortest Path:  6\n",
            "Time Taken:  3.6063194274902344\n"
          ]
        }
      ]
    }
  ]
}